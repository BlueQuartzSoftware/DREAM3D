{
 "cells": [
  {
   "cell_type": "markdown",
   "metadata": {},
   "source": [
    "# Changing the IPFColor data in an existing DREAM3D data file"
   ]
  },
  {
   "cell_type": "markdown",
   "metadata": {},
   "source": [
    "Import necessary modules and submodules"
   ]
  },
  {
   "cell_type": "code",
   "execution_count": 0,
   "metadata": {},
   "outputs": [],
   "source": [
    "from dream3d import simplpy\n",
    "from dream3d import simpl\n",
    "from dream3d import simpl_helpers as sc\n",
    "from dream3d import simpl_test_dirs as sd\n",
    "\n",
    "# Numpy for some data management assistance\n",
    "import numpy as np\n",
    "import datetime as datetime"
   ]
  },
  {
   "cell_type": "markdown",
   "metadata": {},
   "source": [
    " Create Data Container Array"
   ]
  },
  {
   "cell_type": "code",
   "execution_count": 2,
   "metadata": {},
   "outputs": [],
   "source": [
    "dca = simpl.DataContainerArray.New()"
   ]
  },
  {
   "cell_type": "markdown",
   "metadata": {},
   "source": [
    "Build the DataContainerArrayProxy object to select data arrays to read"
   ]
  },
  {
   "cell_type": "code",
   "execution_count": 3,
   "metadata": {},
   "outputs": [],
   "source": [
    "dcap = simpl.DataContainerArrayProxy()\n",
    "dcap.getDataContainerProxy(\"Small IN100\").Flag =2\n",
    "dcap.getDataContainerProxy(\"Small IN100\").getAttributeMatrixProxy(\"EBSD Scan Data\").Flag =2\n",
    "dcap.getDataContainerProxy(\"Small IN100\").getAttributeMatrixProxy(\"EBSD Scan Data\").getDataArrayProxy(\"Confidence Index\").Flag =2\n",
    "dcap.getDataContainerProxy(\"Small IN100\").getAttributeMatrixProxy(\"EBSD Scan Data\").getDataArrayProxy(\"CriticalField\").Flag =2\n",
    "dcap.getDataContainerProxy(\"Small IN100\").getAttributeMatrixProxy(\"EBSD Scan Data\").getDataArrayProxy(\"EulerAngles\").Flag =2\n",
    "dcap.getDataContainerProxy(\"Small IN100\").getAttributeMatrixProxy(\"EBSD Scan Data\").getDataArrayProxy(\"FeatureIds\").Flag =2\n",
    "dcap.getDataContainerProxy(\"Small IN100\").getAttributeMatrixProxy(\"EBSD Scan Data\").getDataArrayProxy(\"Fit\").Flag =2\n",
    "dcap.getDataContainerProxy(\"Small IN100\").getAttributeMatrixProxy(\"EBSD Scan Data\").getDataArrayProxy(\"GBManhattanDistances\").Flag =2\n",
    "dcap.getDataContainerProxy(\"Small IN100\").getAttributeMatrixProxy(\"EBSD Scan Data\").getDataArrayProxy(\"IPFColor\").Flag =2\n",
    "dcap.getDataContainerProxy(\"Small IN100\").getAttributeMatrixProxy(\"EBSD Scan Data\").getDataArrayProxy(\"Image Quality\").Flag =2\n",
    "dcap.getDataContainerProxy(\"Small IN100\").getAttributeMatrixProxy(\"EBSD Scan Data\").getDataArrayProxy(\"Mask\").Flag =2\n",
    "dcap.getDataContainerProxy(\"Small IN100\").getAttributeMatrixProxy(\"EBSD Scan Data\").getDataArrayProxy(\"ParentIds\").Flag =2\n",
    "dcap.getDataContainerProxy(\"Small IN100\").getAttributeMatrixProxy(\"EBSD Scan Data\").getDataArrayProxy(\"Phases\").Flag =2\n",
    "dcap.getDataContainerProxy(\"Small IN100\").getAttributeMatrixProxy(\"EBSD Scan Data\").getDataArrayProxy(\"QPManhattanDistances\").Flag =2\n",
    "dcap.getDataContainerProxy(\"Small IN100\").getAttributeMatrixProxy(\"EBSD Scan Data\").getDataArrayProxy(\"Quats\").Flag =2\n",
    "dcap.getDataContainerProxy(\"Small IN100\").getAttributeMatrixProxy(\"EBSD Scan Data\").getDataArrayProxy(\"SEM Signal\").Flag =2\n",
    "dcap.getDataContainerProxy(\"Small IN100\").getAttributeMatrixProxy(\"EBSD Scan Data\").getDataArrayProxy(\"TJManhattanDistances\").Flag =2\n",
    "dcap.getDataContainerProxy(\"Small IN100\").getAttributeMatrixProxy(\"EBSD Scan Data\").getDataArrayProxy(\"IPFColor\").Flag =2\n",
    "\n",
    "dcap.getDataContainerProxy(\"Small IN100\").getAttributeMatrixProxy(\"Phase Data\").getDataArrayProxy(\"CrystalStructures\").Flag =2\n",
    "dcap.getDataContainerProxy(\"Small IN100\").getAttributeMatrixProxy(\"Phase Data\").getDataArrayProxy(\"LatticeConstants\").Flag =2\n",
    "dcap.getDataContainerProxy(\"Small IN100\").getAttributeMatrixProxy(\"Phase Data\").getDataArrayProxy(\"MaterialName\").Flag =2\n",
    "\n",
    "dcap.getDataContainerProxy(\"Small IN100\").getAttributeMatrixProxy(\"Grain Data\").getDataArrayProxy(\"Active\").Flag =2\n",
    "dcap.getDataContainerProxy(\"Small IN100\").getAttributeMatrixProxy(\"Grain Data\").getDataArrayProxy(\"AspectRatios\").Flag =2\n",
    "dcap.getDataContainerProxy(\"Small IN100\").getAttributeMatrixProxy(\"Grain Data\").getDataArrayProxy(\"AvgEuler\").Flag =2\n",
    "dcap.getDataContainerProxy(\"Small IN100\").getAttributeMatrixProxy(\"Grain Data\").getDataArrayProxy(\"AxisEulerAngles\").Flag =2\n",
    "dcap.getDataContainerProxy(\"Small IN100\").getAttributeMatrixProxy(\"Grain Data\").getDataArrayProxy(\"AxisLengths\").Flag =2\n",
    "dcap.getDataContainerProxy(\"Small IN100\").getAttributeMatrixProxy(\"Grain Data\").getDataArrayProxy(\"Centroids\").Flag =2\n",
    "dcap.getDataContainerProxy(\"Small IN100\").getAttributeMatrixProxy(\"Grain Data\").getDataArrayProxy(\"CriticalFields\").Flag =2\n",
    "dcap.getDataContainerProxy(\"Small IN100\").getAttributeMatrixProxy(\"Grain Data\").getDataArrayProxy(\"EquivalentDiameters\").Flag =2\n",
    "dcap.getDataContainerProxy(\"Small IN100\").getAttributeMatrixProxy(\"Grain Data\").getDataArrayProxy(\"NeighborList\").Flag =2\n",
    "dcap.getDataContainerProxy(\"Small IN100\").getAttributeMatrixProxy(\"Grain Data\").getDataArrayProxy(\"NeighborhoodList\").Flag =2\n",
    "dcap.getDataContainerProxy(\"Small IN100\").getAttributeMatrixProxy(\"Grain Data\").getDataArrayProxy(\"Neighborhoods\").Flag =2\n",
    "dcap.getDataContainerProxy(\"Small IN100\").getAttributeMatrixProxy(\"Grain Data\").getDataArrayProxy(\"NumElements\").Flag =2\n",
    "dcap.getDataContainerProxy(\"Small IN100\").getAttributeMatrixProxy(\"Grain Data\").getDataArrayProxy(\"NumNeighbors\").Flag =2\n",
    "dcap.getDataContainerProxy(\"Small IN100\").getAttributeMatrixProxy(\"Grain Data\").getDataArrayProxy(\"NumNeighbors2\").Flag =2\n",
    "dcap.getDataContainerProxy(\"Small IN100\").getAttributeMatrixProxy(\"Grain Data\").getDataArrayProxy(\"Omega3s\").Flag =2\n",
    "dcap.getDataContainerProxy(\"Small IN100\").getAttributeMatrixProxy(\"Grain Data\").getDataArrayProxy(\"ParentIds\").Flag =2\n",
    "dcap.getDataContainerProxy(\"Small IN100\").getAttributeMatrixProxy(\"Grain Data\").getDataArrayProxy(\"Phases\").Flag =2\n",
    "dcap.getDataContainerProxy(\"Small IN100\").getAttributeMatrixProxy(\"Grain Data\").getDataArrayProxy(\"Shape Volumes\").Flag =2\n",
    "dcap.getDataContainerProxy(\"Small IN100\").getAttributeMatrixProxy(\"Grain Data\").getDataArrayProxy(\"SharedSurfaceAreaList\").Flag =2\n",
    "dcap.getDataContainerProxy(\"Small IN100\").getAttributeMatrixProxy(\"Grain Data\").getDataArrayProxy(\"Size Volumes\").Flag =2\n",
    "dcap.getDataContainerProxy(\"Small IN100\").getAttributeMatrixProxy(\"Grain Data\").getDataArrayProxy(\"Sphericity\").Flag =2\n",
    "dcap.getDataContainerProxy(\"Small IN100\").getAttributeMatrixProxy(\"Grain Data\").getDataArrayProxy(\"SurfaceAreaVolumeRatio\").Flag =2"
   ]
  },
  {
   "cell_type": "markdown",
   "metadata": {},
   "source": [
    "Get the current time to use as a parameter to the Data Container Reader function"
   ]
  },
  {
   "cell_type": "code",
   "execution_count": 4,
   "metadata": {},
   "outputs": [],
   "source": [
    "now_time = datetime.datetime.now()\n",
    "now_time_seconds = now_time.hour * 3600 + now_time.minute * 60 + now_time.second\n",
    "dt = simpl.DateTime(now_time.year, now_time.month, now_time.day, now_time_seconds)"
   ]
  },
  {
   "cell_type": "markdown",
   "metadata": {},
   "source": [
    "Read the DREAM3D file by running the Data Container Reader filter / function"
   ]
  },
  {
   "cell_type": "code",
   "execution_count": 5,
   "metadata": {},
   "outputs": [],
   "source": [
    "err = simplpy.data_container_reader(dca, sd.GetBuildDirectory() +\n",
    "                                    \"/Data/Output/Synthetic/06_SmallIN100Synthetic.dream3d\",\n",
    "                                    False, \"\", dt, dcap)\n",
    "if err < 0:\n",
    "    print(\"DataContainerReader ErrorCondition %d\" % err)"
   ]
  },
  {
   "cell_type": "markdown",
   "metadata": {},
   "source": [
    "Get the attribute matrix and then get the data array and component dimensions"
   ]
  },
  {
   "cell_type": "code",
   "execution_count": 6,
   "metadata": {},
   "outputs": [],
   "source": [
    "am = dca.getAttributeMatrix(simpl.DataArrayPath(\"Small IN100\", \"EBSD Scan Data\", \"\"))\n",
    "data_array = am.getAttributeArray(\"IPFColor\")\n",
    "comp_dims = data_array.getComponentDimensions()\n",
    "data = data_array.Data"
   ]
  },
  {
   "cell_type": "markdown",
   "metadata": {},
   "source": [
    "Create a numpy array from the existing IPFColor data"
   ]
  },
  {
   "cell_type": "code",
   "execution_count": 7,
   "metadata": {},
   "outputs": [],
   "source": [
    "np_array = np.asanyarray(data).reshape(data_array.getNumberOfTuples(), data_array.getNumberOfComponents())"
   ]
  },
  {
   "cell_type": "markdown",
   "metadata": {},
   "source": [
    "Iterate over the array and alter the color values"
   ]
  },
  {
   "cell_type": "code",
   "execution_count": 8,
   "metadata": {},
   "outputs": [],
   "source": [
    "for row in np_array:\n",
    "    if row[0] > 0:\n",
    "        row[0] = row[0] / 2\n",
    "    else:\n",
    "        row[0] = 255\n",
    "    row[1] = 128\n",
    "    row[2] = 0"
   ]
  },
  {
   "cell_type": "markdown",
   "metadata": {},
   "source": [
    "Convert the numpy array into a Data Array and replace the IPFColor array in the attribute matrix"
   ]
  },
  {
   "cell_type": "code",
   "execution_count": 9,
   "metadata": {},
   "outputs": [
    {
     "data": {
      "text/plain": [
       "0"
      ]
     },
     "execution_count": 9,
     "metadata": {},
     "output_type": "execute_result"
    }
   ],
   "source": [
    "newdata = sc.ConvertToDataArray(\"IPFColor\", np_array, comp_dims[0])\n",
    "sc.RemoveArray(dca, [\"Small IN100\", \"EBSD Scan Data\", \"IPFColor\"])\n",
    "am.addAttributeArray(\"IPFColor\", newdata[1])"
   ]
  },
  {
   "cell_type": "markdown",
   "metadata": {},
   "source": [
    "Write to DREAM3D File"
   ]
  },
  {
   "cell_type": "code",
   "execution_count": 10,
   "metadata": {},
   "outputs": [],
   "source": [
    "err = sc.WriteDREAM3DFile(\"06_SmallIN100Synthetic_ColorChanged.dream3d\", dca)\n",
    "if err < 0:\n",
    "    print(\"WriteDREAM3DFile ErrorCondition: %d\" % err)"
   ]
  },
  {
   "cell_type": "code",
   "execution_count": null,
   "metadata": {},
   "outputs": [],
   "source": []
  }
 ],
 "metadata": {
  "kernelspec": {
   "display_name": "Python 3",
   "language": "python",
   "name": "python3"
  },
  "language_info": {
   "codemirror_mode": {
    "name": "ipython",
    "version": 3
   },
   "file_extension": ".py",
   "mimetype": "text/x-python",
   "name": "python",
   "nbconvert_exporter": "python",
   "pygments_lexer": "ipython3",
   "version": "3.6.5"
  }
 },
 "nbformat": 4,
 "nbformat_minor": 2
}
